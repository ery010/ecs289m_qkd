{
 "cells": [
  {
   "cell_type": "code",
   "execution_count": 1,
   "metadata": {},
   "outputs": [],
   "source": [
    "# Testing Notebook\n",
    "# Final code in qkd.py"
   ]
  },
  {
   "cell_type": "code",
   "execution_count": 16,
   "metadata": {},
   "outputs": [],
   "source": [
    "# BB84\n",
    "\n",
    "# Basis = {\"rectilinear\", \"diagonal\"}\n",
    "# Polarization = {\"H, \"V\", \"PD\", \"ND\"}\n",
    "\n",
    "basis = [\"HV\", \"D\"]\n",
    "\n",
    "polarization = {\"1\": {\"HV\": \"H\", \"D\": \"PD\"},\n",
    "                \"0\": {\"HV\": \"V\", \"D\": \"ND\"}\n"
   ]
  },
  {
   "cell_type": "code",
   "execution_count": null,
   "metadata": {},
   "outputs": [],
   "source": [
    "# qubit\n",
    "\n",
    "class qubit():\n",
    "    \n",
    "    self.__init__(self):\n",
    "        self.state = (0, 1)"
   ]
  },
  {
   "cell_type": "code",
   "execution_count": 14,
   "metadata": {},
   "outputs": [],
   "source": [
    "import random\n",
    "\n",
    "def generate_key(n):\n",
    "    \"\"\"\n",
    "    :param n: length of bitstring \n",
    "    \"\"\"\n",
    "    bit_value = [0, 1]\n",
    "    \n",
    "    return \"\".join([str(random.choice(bit_value)) for i in range(n)])\n",
    "\n",
    "def select_basis(n):\n",
    "    \"\"\"\n",
    "    :param n: length of bitstring \n",
    "    \"\"\"\n",
    "    \n",
    "    "
   ]
  },
  {
   "cell_type": "code",
   "execution_count": 15,
   "metadata": {},
   "outputs": [
    {
     "data": {
      "text/plain": [
       "'1111101101010101111101000001101010001011011110111111100111011001100100001010000101111010001100100101111110010111001000011010000110110011010111110111110101011101001110111011010111100100010001010011001000010100001010101001001000110111000111110110100101111110001010100000101001101001000111111000100100000100011000100011100000110101011001000110010101011110011011001000100100101011001000000101110111000101001101011101010111110111111001100001001000101000000000001111101111101011010100101010100000010010001101010110110011011011111100110000100000100111001110110101111011101110011110011110100000111111111001110010111010010011111101111010000101010110101011101110101011110001001110011100101010101001100000011001110111011100111110100101011011101011000000100010111000111101101001101001100100000101110010110001101000011101101010100010101011111000011110010010000001100101101111001110100110110001001100000000110101011001000111101010100001100010000001000001001101100001011001101110011010110011011001001111101100011111'"
      ]
     },
     "execution_count": 15,
     "metadata": {},
     "output_type": "execute_result"
    }
   ],
   "source": [
    "generate_key(1000)"
   ]
  },
  {
   "cell_type": "code",
   "execution_count": null,
   "metadata": {},
   "outputs": [],
   "source": []
  }
 ],
 "metadata": {
  "kernelspec": {
   "display_name": "Python 3",
   "language": "python",
   "name": "python3"
  },
  "language_info": {
   "codemirror_mode": {
    "name": "ipython",
    "version": 3
   },
   "file_extension": ".py",
   "mimetype": "text/x-python",
   "name": "python",
   "nbconvert_exporter": "python",
   "pygments_lexer": "ipython3",
   "version": "3.7.6"
  }
 },
 "nbformat": 4,
 "nbformat_minor": 4
}
