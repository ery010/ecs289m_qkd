{
 "cells": [
  {
   "cell_type": "code",
   "execution_count": 1,
   "metadata": {},
   "outputs": [],
   "source": [
    "# Testing Notebook\n",
    "# Final code in qkd.py"
   ]
  },
  {
   "cell_type": "code",
   "execution_count": null,
   "metadata": {},
   "outputs": [],
   "source": [
    "# BB84\n",
    "\n",
    "# Basis = {\"rectilinear\", \"diagonal\"}\n",
    "# Polarization = {\"horizontal\", \"vertical\", \"pos_diag\", \"neg_diag\"}\n",
    "\n",
    "basis = [\"rectilinear\", \"diagonal\"]\n",
    "\n",
    "polarization = {\"rectilinear\": [\"horizontal\", \"vertical\"],\n",
    "                \"diagonal\": [\"pos_diag\", \"neg_diag\"]}\n"
   ]
  },
  {
   "cell_type": "code",
   "execution_count": null,
   "metadata": {},
   "outputs": [],
   "source": [
    "# qubit\n",
    "\n",
    "class qubit():\n",
    "    \n",
    "    self.__init__"
   ]
  }
 ],
 "metadata": {
  "kernelspec": {
   "display_name": "Python 3",
   "language": "python",
   "name": "python3"
  },
  "language_info": {
   "codemirror_mode": {
    "name": "ipython",
    "version": 3
   },
   "file_extension": ".py",
   "mimetype": "text/x-python",
   "name": "python",
   "nbconvert_exporter": "python",
   "pygments_lexer": "ipython3",
   "version": "3.7.6"
  }
 },
 "nbformat": 4,
 "nbformat_minor": 4
}
