{
 "cells": [
  {
   "cell_type": "code",
   "execution_count": 1,
   "metadata": {},
   "outputs": [],
   "source": [
    "# Testing Notebook\n",
    "# Final code in qkd.py\n",
    "# Sources: \n",
    "# https://github.com/qiskit-community/qiskit-community-tutorials/blob/master/awards/teach_me_qiskit_2018/cryptography/Cryptography.ipynb\n",
    "# https://qiskit.org/textbook/ch-algorithms/quantum-key-distribution.html"
   ]
  },
  {
   "cell_type": "code",
   "execution_count": 2,
   "metadata": {},
   "outputs": [],
   "source": [
    "from qiskit import QuantumCircuit, ClassicalRegister, QuantumRegister, execute, BasicAer, Aer, transpile, assemble\n",
    "from qiskit.tools.visualization import plot_histogram\n",
    "import numpy as np\n",
    "from numpy.random import randint\n",
    "import random\n",
    "import tkinter as tk\n",
    "import simpy"
   ]
  },
  {
   "cell_type": "code",
   "execution_count": null,
   "metadata": {},
   "outputs": [],
   "source": [
    "# BB84\n",
    "\n",
    "# Basis-key: {0: Z-Basis (horizontal-vertical), 1: X-Basis (diagonal)}\n",
    "import wx\n",
    "\n",
    "app = wx.App()\n",
    "frame = wx.Frame(parent=None, title=\"Quantum Key Distribution Simulator\")\n",
    "frame.Show()\n",
    "app.MainLoop()"
   ]
  },
  {
   "cell_type": "code",
   "execution_count": null,
   "metadata": {},
   "outputs": [],
   "source": [
    "class QKDSIM(wx.Frame):\n",
    "    \n",
    "    def __init__(self):\n",
    "        app = wx.App()   \n",
    "        super().__init__(parent=None, title=\"Quantum Key Distribution Simulator\")\n",
    "        panel = wx.Panel(self)        \n",
    "        my_sizer = wx.BoxSizer(wx.VERTICAL)        \n",
    "        self.text_ctrl = wx.TextCtrl(panel)\n",
    "        my_sizer.Add(self.text_ctrl, 0, wx.ALL | wx.EXPAND, 5)        \n",
    "        my_btn = wx.Button(panel, label='Press Me')\n",
    "        my_sizer.Add(my_btn, 0, wx.ALL | wx.CENTER, 5)        \n",
    "        self.Show()\n",
    "        \n",
    "app = wx.App()         \n",
    "frame = QKDSIM()\n",
    "app.MainLoop()"
   ]
  },
  {
   "cell_type": "code",
   "execution_count": null,
   "metadata": {},
   "outputs": [],
   "source": [
    "# Final code for packaging\n",
    "im\n",
    "\n",
    "class QKD:\n",
    "    \n",
    "    def __init__(self, seed=None):\n",
    "        self.seed = seed\n",
    "            \n",
    "    def generate_key(n):\n",
    "        \"\"\"\n",
    "        Function for generating a random key and bases of length n.\n",
    "\n",
    "        :param n: length of bitstring to generate\n",
    "        \"\"\"\n",
    "        if self.seed != None:\n",
    "            np.random.seed(self.seed)\n",
    "            \n",
    "        bit_key = randint(2, size=n)\n",
    "        bit_basis = randint(2, size=n)\n",
    "\n",
    "        return bit_key, bit_basis\n",
    "    \n",
    "    \n",
    "    \n",
    "    "
   ]
  },
  {
   "cell_type": "code",
   "execution_count": null,
   "metadata": {},
   "outputs": [],
   "source": [
    "np.random.seed(seed=42)"
   ]
  },
  {
   "cell_type": "code",
   "execution_count": null,
   "metadata": {},
   "outputs": [],
   "source": [
    "def generate_key(n):\n",
    "    \"\"\"\n",
    "    Function for generating a random key and bases of length n.\n",
    "    \n",
    "    :param n: length of bitstring to generate\n",
    "    \"\"\"\n",
    "    bit_key = randint(2, size=n)\n",
    "    bit_basis = randint(2, size=n)\n",
    "    \n",
    "    return bit_key, bit_basis"
   ]
  },
  {
   "cell_type": "code",
   "execution_count": null,
   "metadata": {},
   "outputs": [],
   "source": [
    "n = 100\n",
    "\n",
    "alice_key, alice_basis = generate_key(n)\n",
    "\n",
    "print(alice_key)\n",
    "print(alice_basis)"
   ]
  },
  {
   "cell_type": "code",
   "execution_count": null,
   "metadata": {},
   "outputs": [],
   "source": [
    "def encode(bit_key, bit_bases):\n",
    "    \"\"\"\n",
    "    Function for encoding a message.\n",
    "    \n",
    "    :param bit_key: Randomly generated bitstring key\n",
    "    :param bit_bases: Bases for each bit in bit_key\n",
    "    \"\"\"\n",
    "    output = []\n",
    "    \n",
    "    # length of bit_key and bit_bases should be the same\n",
    "    assert len(bit_key) == len(bit_bases), \"Key and bases sequence should be equivalent.\"\n",
    "    \n",
    "    for i in range(len(bit_key)):\n",
    "        qc = QuantumCircuit(1, 1)\n",
    "        \n",
    "        # Encode qubit in Z-basis (horizontal-vertical)\n",
    "        if bit_bases[i] == 0:\n",
    "            if bit_key[i] == 0:\n",
    "                pass\n",
    "            else:\n",
    "                qc.x(0)\n",
    "        \n",
    "        # Encode qubit in X-basis (diagonal)\n",
    "        else:\n",
    "            if bit_key[i] == 0:\n",
    "                qc.h(0)\n",
    "            else:\n",
    "                qc.x(0)\n",
    "                qc.h(0)\n",
    "                \n",
    "        qc.barrier()\n",
    "        output.append(qc)\n",
    "        \n",
    "    return output"
   ]
  },
  {
   "cell_type": "code",
   "execution_count": null,
   "metadata": {},
   "outputs": [],
   "source": [
    "alice_msg = encode(alice_key, alice_basis)"
   ]
  },
  {
   "cell_type": "code",
   "execution_count": null,
   "metadata": {},
   "outputs": [],
   "source": [
    "print(\"Bit = \" + str(alice_key[0]))\n",
    "print(\"Basis = \" + str(alice_basis[0]))\n",
    "alice_msg[0].draw()"
   ]
  },
  {
   "cell_type": "code",
   "execution_count": null,
   "metadata": {},
   "outputs": [],
   "source": [
    "def select_basis(msg):\n",
    "    \"\"\"\n",
    "    Function for selecting basis on receiver (Bob) end.\n",
    "    \n",
    "    :param msg: Messaged received from sender (Alice)\n",
    "    \"\"\"\n",
    "    return randint(2, size=len(msg))"
   ]
  },
  {
   "cell_type": "code",
   "execution_count": null,
   "metadata": {},
   "outputs": [],
   "source": [
    "# Bob\n",
    "\n",
    "bob_basis = select_basis(alice_msg)"
   ]
  },
  {
   "cell_type": "code",
   "execution_count": null,
   "metadata": {},
   "outputs": [],
   "source": [
    "def measure(msg, bases, noise=0):\n",
    "    \"\"\"\n",
    "    Function for measure qubits with receiver (Bob) basis.\n",
    "    \n",
    "    :param msg: Message received from sender (Alice)\n",
    "    :param bases: Basis selected by receiver (Bob)\n",
    "    :param noise: Amount of noise that changes qubit's state\n",
    "    \"\"\"\n",
    "    # Introduce noise \n",
    "    if noise > 0:\n",
    "        \n",
    "        temp_backend = Aer.get_backend(\"aer_simulator\")\n",
    "        temp_results = []\n",
    "        \n",
    "        noise_idx = []\n",
    "        for i_n in range(int(len(msg)*noise)):\n",
    "            noise_idx.append(random.randint(0, len(msg)-1))\n",
    "            \n",
    "        for n_idx in noise_idx:\n",
    "            # Z-basis\n",
    "            if bases[n_idx] == 0: \n",
    "                msg[n_idx].measure(0, 0)\n",
    "\n",
    "             # X-basis\n",
    "            if bases[n_idx] == 1:\n",
    "                msg[n_idx].h(0)\n",
    "                msg[n_idx].measure(0, 0)\n",
    "                \n",
    "            temp_aer_sim = Aer.get_backend(\"aer_simulator\")\n",
    "            temp_qobj = assemble(msg[n_idx], shots=1, memory=True)\n",
    "            temp_sim_results = temp_aer_sim.run(temp_qobj).result()\n",
    "            temp_measured_bit = int(temp_sim_results.get_memory()[0])\n",
    "            temp_results.append(temp_measured_bit)\n",
    "         \n",
    "    backend = Aer.get_backend(\"aer_simulator\")\n",
    "    results = []\n",
    "    \n",
    "    for i in range(len(msg)):\n",
    "        # Z-basis\n",
    "        if bases[i] == 0: \n",
    "            msg[i].measure(0, 0)\n",
    "            \n",
    "         # X-basis\n",
    "        if bases[i] == 1:\n",
    "            msg[i].h(0)\n",
    "            msg[i].measure(0, 0)\n",
    "            \n",
    "        aer_sim = Aer.get_backend(\"aer_simulator\")\n",
    "        qobj = assemble(msg[i], shots=1, memory=True)\n",
    "        sim_results = aer_sim.run(qobj).result()\n",
    "        measured_bit = int(sim_results.get_memory()[0])\n",
    "        results.append(measured_bit)\n",
    "        \n",
    "    return results"
   ]
  },
  {
   "cell_type": "code",
   "execution_count": null,
   "metadata": {},
   "outputs": [],
   "source": [
    "bob_key = measure(alice_msg, bob_basis, noise=0.01)\n",
    "print(bob_key)"
   ]
  },
  {
   "cell_type": "code",
   "execution_count": null,
   "metadata": {},
   "outputs": [],
   "source": [
    "def modify_key(alice_bases, bob_bases, bit_key):\n",
    "    \"\"\"\n",
    "    Function for modifying key by removing bits based on basis matching.\n",
    "    \n",
    "    :param alice_bases: Basis that Alice chose\n",
    "    :param bob_bases: Basis that Bob chose\n",
    "    :param bit_key: Key to modify\n",
    "    \"\"\"\n",
    "    \n",
    "    preserved = []\n",
    "    \n",
    "    for i in range(len(bit_key)):\n",
    "        if alice_basis[i] == bob_basis[i]:\n",
    "            preserved.append(bit_key[i])\n",
    "        \n",
    "    return preserved"
   ]
  },
  {
   "cell_type": "code",
   "execution_count": null,
   "metadata": {},
   "outputs": [],
   "source": [
    "alice_mod_key = modify_key(alice_basis, bob_basis, alice_key)\n",
    "bob_mod_key = modify_key(alice_basis, bob_basis, bob_key)\n",
    "\n",
    "print(\"Alice's modified key:\\n\" + str(alice_mod_key) + \"\\n\")\n",
    "print(\"Bob's modified key:\\n\" + str(bob_mod_key))"
   ]
  },
  {
   "cell_type": "code",
   "execution_count": null,
   "metadata": {},
   "outputs": [],
   "source": [
    "def sifting(alice_mod, bob_mod, sample_size, threshold):\n",
    "    \"\"\"\n",
    "    Function for comparing a random sample of bits in Alice and Bob's keys\n",
    "    \n",
    "    :param alice_mod: Alice's current key\n",
    "    :param bob_mod: Bob's current key\n",
    "    :param sample_size: Number of bits to compare\n",
    "    :param threshold: Allowed error proportion\n",
    "    \"\"\"\n",
    "    alice_sample = []\n",
    "    bob_sample = []\n",
    "    sample_idx = []\n",
    "    for i in range(sample_size):\n",
    "        sample_idx.append(random.randint(0, len(alice_mod)-1))\n",
    "        \n",
    "    for idx in sample_idx:\n",
    "        alice_sample.append(alice_mod[idx])\n",
    "        bob_sample.append(bob_mod[idx])\n",
    "    \n",
    "    error = 1 - (sum(np.array(alice_sample) == np.array(bob_sample)) / 10)\n",
    "    print(\"Error rate: \" + str(error))\n",
    "    \n",
    "    if error <= threshold:\n",
    "        return alice_mod, bob_mod\n",
    "    \n",
    "    else:\n",
    "        print(\"Error threshold exceeded. \" + str(error*100) + \"% discrepancy. \\n\")\n",
    "        return None, None"
   ]
  },
  {
   "cell_type": "code",
   "execution_count": null,
   "metadata": {},
   "outputs": [],
   "source": [
    "alice_sifted, bob_sifted = sifting(alice_mod_key, bob_mod_key, sample_size=10, threshold=0)\n",
    "\n",
    "print(\"Alice's sifted key:\\n\" + str(alice_sifted) + \"\\n\")\n",
    "print(\"Bob's sifted key:\\n\" + str(bob_sifted))"
   ]
  },
  {
   "cell_type": "markdown",
   "metadata": {},
   "source": [
    "# Eavesdropping"
   ]
  },
  {
   "cell_type": "code",
   "execution_count": null,
   "metadata": {},
   "outputs": [],
   "source": [
    "np.random.seed(42)"
   ]
  },
  {
   "cell_type": "code",
   "execution_count": null,
   "metadata": {},
   "outputs": [],
   "source": [
    "n = 100\n",
    "\n",
    "alice_key, alice_basis = generate_key(n)\n",
    "alice_msg = encode(alice_key, alice_basis)"
   ]
  },
  {
   "cell_type": "code",
   "execution_count": null,
   "metadata": {},
   "outputs": [],
   "source": [
    "eve_basis = select_basis(alice_msg)"
   ]
  },
  {
   "cell_type": "code",
   "execution_count": null,
   "metadata": {},
   "outputs": [],
   "source": [
    "eve_key = measure(alice_msg, eve_basis) # This function represents eavesdropper interference via measurement"
   ]
  },
  {
   "cell_type": "code",
   "execution_count": null,
   "metadata": {},
   "outputs": [],
   "source": [
    "bob_basis = select_basis(alice_msg)\n",
    "bob_key = measure(alice_msg, bob_basis)"
   ]
  },
  {
   "cell_type": "code",
   "execution_count": null,
   "metadata": {},
   "outputs": [],
   "source": [
    "alice_mod_key = modify_key(alice_basis, bob_basis, alice_key)\n",
    "bob_mod_key = modify_key(alice_basis, bob_basis, bob_key)\n",
    "\n",
    "print(\"Alice's modified key:\\n\" + str(alice_mod_key) + \"\\n\")\n",
    "print(\"Bob's modified key:\\n\" + str(bob_mod_key))"
   ]
  },
  {
   "cell_type": "code",
   "execution_count": null,
   "metadata": {},
   "outputs": [],
   "source": [
    "alice_sifted, bob_sifted = sifting(alice_mod_key, bob_mod_key, sample_size=10, threshold=0.03)\n",
    "\n",
    "print(\"Alice's sifted key:\\n\" + str(alice_sifted) + \"\\n\")\n",
    "print(\"Bob's sifted key:\\n\" + str(bob_sifted))"
   ]
  },
  {
   "cell_type": "markdown",
   "metadata": {},
   "source": [
    "# Risk Analysis"
   ]
  },
  {
   "cell_type": "markdown",
   "metadata": {},
   "source": [
    "* Chance that Eve guesses the correct basis = 0.5\n",
    "\n",
    "* Chance that Eve guesses the correct polarization given that she guesses the correct basis = 1.0\n",
    "\n",
    "* Chance that Eve guesses the wrong basis = 0.5\n",
    "\n",
    "* Chance that Eve guesses the correct polarization given that she guesses the wrong basis = 0.5\n",
    "\n",
    "Probability that Eve guesses the correct polarization for one bit = (1.0)(0.5) + (0.5)(0.5) = 0.75\n",
    "\n",
    "Probability that Eve guesses the correct polarization for all bits = $0.75^{n}$ for n bits\n",
    "\n",
    "Ex. for 100 bits, P(Eve is discovered) $= 1 - 0.75^{100} = 0.9999999999996793$"
   ]
  },
  {
   "cell_type": "code",
   "execution_count": null,
   "metadata": {},
   "outputs": [],
   "source": []
  }
 ],
 "metadata": {
  "kernelspec": {
   "display_name": "Python 3",
   "language": "python",
   "name": "python3"
  },
  "language_info": {
   "codemirror_mode": {
    "name": "ipython",
    "version": 3
   },
   "file_extension": ".py",
   "mimetype": "text/x-python",
   "name": "python",
   "nbconvert_exporter": "python",
   "pygments_lexer": "ipython3",
   "version": "3.7.6"
  }
 },
 "nbformat": 4,
 "nbformat_minor": 4
}
