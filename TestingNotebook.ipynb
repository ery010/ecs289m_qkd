{
 "cells": [
  {
   "cell_type": "code",
   "execution_count": 29,
   "metadata": {},
   "outputs": [],
   "source": [
    "# Testing Notebook\n",
    "# Final code in qkd.py\n",
    "# Sources: \n",
    "# https://github.com/qiskit-community/qiskit-community-tutorials/blob/master/awards/teach_me_qiskit_2018/cryptography/Cryptography.ipynb\n",
    "# https://qiskit.org/textbook/ch-algorithms/quantum-key-distribution.html"
   ]
  },
  {
   "cell_type": "code",
   "execution_count": 64,
   "metadata": {},
   "outputs": [],
   "source": [
    "from qiskit import QuantumCircuit, ClassicalRegister, QuantumRegister, execute, BasicAer\n",
    "from qiskit.tools.visualization import plot_histogram\n",
    "import numpy as np\n",
    "from numpy.random import randint\n",
    "\n",
    "np.random.seed(42)"
   ]
  },
  {
   "cell_type": "code",
   "execution_count": 48,
   "metadata": {},
   "outputs": [],
   "source": [
    "# BB84\n",
    "\n",
    "# Basis-key: {0: Z-Basis (horizontal-vertical), 1: X-Basis (diagonal)}"
   ]
  },
  {
   "cell_type": "code",
   "execution_count": 62,
   "metadata": {},
   "outputs": [],
   "source": [
    "def generate_key(n):\n",
    "    \"\"\"\n",
    "    Function for generating a random key and bases of length n.\n",
    "    \n",
    "    :param n: length of bitstring to generate\n",
    "    \"\"\"\n",
    "    bit_key = randint(2, size=n)\n",
    "    bit_basis = randint(2, size=n)\n",
    "    \n",
    "    return bit_key, bit_basis"
   ]
  },
  {
   "cell_type": "code",
   "execution_count": 74,
   "metadata": {},
   "outputs": [
    {
     "name": "stdout",
     "output_type": "stream",
     "text": [
      "[0 0 0 1 0 0 1 0 1 1 1 0 0 0 1 0 1 0 1 0 0 0 1 1 0 0 1 1 1 0 1 0 1 0 1 1 1\n",
      " 1 1 0 1 1 1 0 1 0 1 1 0 1 0 0 1 0 1 1 0 0 0 0 1 1 0 1 1 1 1 0 0 1 0 0 0 1\n",
      " 1 1 0 1 1 0 1 1 0 0 0 1 1 1 0 0 1 1 0 0 0 0 1 0 1 1]\n",
      "[1 0 0 0 0 1 0 0 1 0 1 1 1 1 1 1 1 1 0 0 0 0 1 0 1 0 0 0 1 0 1 1 0 0 0 1 0\n",
      " 1 1 0 0 1 1 1 0 1 0 1 1 0 1 0 0 1 0 0 1 0 0 0 1 0 1 1 0 0 0 1 0 0 0 0 0 1\n",
      " 1 0 0 0 0 1 0 1 1 0 1 1 1 1 0 0 1 0 0 0 0 0 1 0 0 0]\n"
     ]
    }
   ],
   "source": [
    "n = 100\n",
    "\n",
    "alice_key, alice_basis = generate_key(n)\n",
    "\n",
    "print(alice_key)\n",
    "print(alice_basis)"
   ]
  },
  {
   "cell_type": "code",
   "execution_count": 75,
   "metadata": {},
   "outputs": [],
   "source": [
    "def encode(bit_key, bit_bases):\n",
    "    \"\"\"\n",
    "    Function for encoding a message.\n",
    "    \n",
    "    :param bit_key: Randomly generated bitstring key\n",
    "    :param bit_bases: Bases for each bit in bit_key\n",
    "    \"\"\"\n",
    "    output = []\n",
    "    \n",
    "    # length of bit_key and bit_bases should be the same\n",
    "    assert len(bit_key) == len(bit_bases), \"Key and bases sequence should be equivalent.\"\n",
    "    \n",
    "    for i in range(len(bit_key)):\n",
    "        qc = QuantumCircuit(1, 1)\n",
    "        \n",
    "        # Encode qubit in Z-basis (horizontal-vertical)\n",
    "        if bit_bases[i] == 0:\n",
    "            if bit_key[i] == 0:\n",
    "                pass\n",
    "            else:\n",
    "                qc.x(0)\n",
    "        \n",
    "        # Encode qubit in X-basis (diagonal)\n",
    "        else:\n",
    "            if bit_key[i] == 0:\n",
    "                qc.h(0)\n",
    "            else:\n",
    "                qc.x(0)\n",
    "                qx.h(0)\n",
    "                \n",
    "        qc.barrier()\n",
    "        output.append(qc)\n",
    "        \n",
    "    return output"
   ]
  }
 ],
 "metadata": {
  "kernelspec": {
   "display_name": "Python 3",
   "language": "python",
   "name": "python3"
  },
  "language_info": {
   "codemirror_mode": {
    "name": "ipython",
    "version": 3
   },
   "file_extension": ".py",
   "mimetype": "text/x-python",
   "name": "python",
   "nbconvert_exporter": "python",
   "pygments_lexer": "ipython3",
   "version": "3.7.6"
  }
 },
 "nbformat": 4,
 "nbformat_minor": 4
}
