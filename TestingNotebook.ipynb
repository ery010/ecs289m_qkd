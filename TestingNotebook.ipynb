{
 "cells": [
  {
   "cell_type": "code",
   "execution_count": 15,
   "metadata": {},
   "outputs": [],
   "source": [
    "# Testing Notebook\n",
    "# Final code in qkd.py\n",
    "# Sources: \n",
    "# https://github.com/qiskit-community/qiskit-community-tutorials/blob/master/awards/teach_me_qiskit_2018/cryptography/Cryptography.ipynb\n",
    "# https://qiskit.org/textbook/ch-algorithms/quantum-key-distribution.html"
   ]
  },
  {
   "cell_type": "code",
   "execution_count": 16,
   "metadata": {},
   "outputs": [],
   "source": [
    "from qiskit import QuantumCircuit, ClassicalRegister, QuantumRegister, execute, BasicAer, Aer, transpile, assemble\n",
    "from qiskit.tools.visualization import plot_histogram\n",
    "import numpy as np\n",
    "from numpy.random import randint"
   ]
  },
  {
   "cell_type": "code",
   "execution_count": 17,
   "metadata": {},
   "outputs": [],
   "source": [
    "# BB84\n",
    "\n",
    "# Basis-key: {0: Z-Basis (horizontal-vertical), 1: X-Basis (diagonal)}"
   ]
  },
  {
   "cell_type": "code",
   "execution_count": 169,
   "metadata": {},
   "outputs": [
    {
     "ename": "SyntaxError",
     "evalue": "unexpected EOF while parsing (<ipython-input-169-958555c6149a>, line 5)",
     "output_type": "error",
     "traceback": [
      "  File \"<ipython-input-169-958555c6149a>\", line 5\n    def __init__(self):\n                       ^\nSyntaxError: unexpected EOF while parsing\n"
     ]
    }
   ],
   "source": [
    "# Final code for packaging\n",
    "\n",
    "class QKD:\n",
    "    \n",
    "    def __init__(self):"
   ]
  },
  {
   "cell_type": "code",
   "execution_count": 170,
   "metadata": {},
   "outputs": [],
   "source": [
    "np.random.seed(seed=42)"
   ]
  },
  {
   "cell_type": "code",
   "execution_count": 171,
   "metadata": {},
   "outputs": [],
   "source": [
    "def generate_key(n):\n",
    "    \"\"\"\n",
    "    Function for generating a random key and bases of length n.\n",
    "    \n",
    "    :param n: length of bitstring to generate\n",
    "    \"\"\"\n",
    "    bit_key = randint(2, size=n)\n",
    "    bit_basis = randint(2, size=n)\n",
    "    \n",
    "    return bit_key, bit_basis"
   ]
  },
  {
   "cell_type": "code",
   "execution_count": 172,
   "metadata": {},
   "outputs": [
    {
     "name": "stdout",
     "output_type": "stream",
     "text": [
      "[0 1 0 0 0 1 0 0 0 1 0 0 0 0 1 0 1 1 1 0 1 0 1 1 1 1 1 1 1 1 0 0 1 1 1 0 1\n",
      " 0 0 0 0 0 1 1 1 1 1 0 1 1 0 1 0 1 0 1 1 0 0 0 0 0 0 0 0 1 1 0 1 1 1 1 0 1\n",
      " 0 1 1 1 0 1 0 1 0 1 0 0 1 0 1 1 1 1 1 1 1 1 1 1 1 0]\n",
      "[0 1 1 1 1 1 1 1 1 0 1 0 1 1 0 1 0 1 1 0 1 0 1 0 0 1 1 0 1 1 1 0 0 0 0 0 0\n",
      " 0 0 0 1 0 1 1 1 0 0 0 0 1 0 0 0 0 0 1 0 1 0 1 0 0 1 1 1 0 1 0 0 1 1 0 0 1\n",
      " 1 1 0 0 0 0 0 0 1 0 0 0 1 0 0 1 0 0 0 0 0 1 1 1 0 0]\n"
     ]
    }
   ],
   "source": [
    "n = 100\n",
    "\n",
    "alice_key, alice_basis = generate_key(n)\n",
    "\n",
    "print(alice_key)\n",
    "print(alice_basis)"
   ]
  },
  {
   "cell_type": "code",
   "execution_count": 173,
   "metadata": {},
   "outputs": [],
   "source": [
    "def encode(bit_key, bit_bases):\n",
    "    \"\"\"\n",
    "    Function for encoding a message.\n",
    "    \n",
    "    :param bit_key: Randomly generated bitstring key\n",
    "    :param bit_bases: Bases for each bit in bit_key\n",
    "    \"\"\"\n",
    "    output = []\n",
    "    \n",
    "    # length of bit_key and bit_bases should be the same\n",
    "    assert len(bit_key) == len(bit_bases), \"Key and bases sequence should be equivalent.\"\n",
    "    \n",
    "    for i in range(len(bit_key)):\n",
    "        qc = QuantumCircuit(1, 1)\n",
    "        \n",
    "        # Encode qubit in Z-basis (horizontal-vertical)\n",
    "        if bit_bases[i] == 0:\n",
    "            if bit_key[i] == 0:\n",
    "                pass\n",
    "            else:\n",
    "                qc.x(0)\n",
    "        \n",
    "        # Encode qubit in X-basis (diagonal)\n",
    "        else:\n",
    "            if bit_key[i] == 0:\n",
    "                qc.h(0)\n",
    "            else:\n",
    "                qc.x(0)\n",
    "                qc.h(0)\n",
    "                \n",
    "        qc.barrier()\n",
    "        output.append(qc)\n",
    "        \n",
    "    return output"
   ]
  },
  {
   "cell_type": "code",
   "execution_count": 174,
   "metadata": {},
   "outputs": [],
   "source": [
    "alice_msg = encode(alice_key, alice_basis)"
   ]
  },
  {
   "cell_type": "code",
   "execution_count": 175,
   "metadata": {},
   "outputs": [
    {
     "name": "stdout",
     "output_type": "stream",
     "text": [
      "Bit = 0\n",
      "Basis = 0\n"
     ]
    },
    {
     "data": {
      "text/html": [
       "<pre style=\"word-wrap: normal;white-space: pre;background: #fff0;line-height: 1.1;font-family: &quot;Courier New&quot;,Courier,monospace\">      ░ \n",
       "  q: ─░─\n",
       "      ░ \n",
       "c: 1/═══\n",
       "        </pre>"
      ],
      "text/plain": [
       "      ░ \n",
       "  q: ─░─\n",
       "      ░ \n",
       "c: 1/═══\n",
       "        "
      ]
     },
     "execution_count": 175,
     "metadata": {},
     "output_type": "execute_result"
    }
   ],
   "source": [
    "print(\"Bit = \" + str(alice_key[0]))\n",
    "print(\"Basis = \" + str(alice_basis[0]))\n",
    "alice_msg[0].draw()"
   ]
  },
  {
   "cell_type": "code",
   "execution_count": 176,
   "metadata": {},
   "outputs": [],
   "source": [
    "def select_basis(msg):\n",
    "    \"\"\"\n",
    "    Function for selecting basis on receiver (Bob) end.\n",
    "    \n",
    "    :param msg: Messaged received from sender (Alice)\n",
    "    \"\"\"\n",
    "    return randint(2, size=len(msg))"
   ]
  },
  {
   "cell_type": "code",
   "execution_count": 177,
   "metadata": {},
   "outputs": [],
   "source": [
    "# Bob\n",
    "\n",
    "bob_basis = select_basis(alice_msg)"
   ]
  },
  {
   "cell_type": "code",
   "execution_count": 178,
   "metadata": {},
   "outputs": [],
   "source": [
    "def measure(msg, bases, noise=0):\n",
    "    \"\"\"\n",
    "    Function for measure qubits with receiver (Bob) basis.\n",
    "    \n",
    "    :param msg: Message received from sender (Alice)\n",
    "    :param bases: Basis selected by receiver (Bob)\n",
    "    :param noise: Amount of noice that changes qubit's state\n",
    "    \"\"\"\n",
    "    # Introduce noise \n",
    "    # if noise > 0:\n",
    "    \n",
    "    backend = Aer.get_backend(\"aer_simulator\")\n",
    "    results = []\n",
    "    \n",
    "    for i in range(len(msg)):\n",
    "        # Z-basis\n",
    "        if bases[i] == 0: \n",
    "            msg[i].measure(0, 0)\n",
    "            \n",
    "         # X-basis\n",
    "        if bases[i] == 1:\n",
    "            msg[i].h(0)\n",
    "            msg[i].measure(0, 0)\n",
    "            \n",
    "        aer_sim = Aer.get_backend(\"aer_simulator\")\n",
    "        qobj = assemble(msg[i], shots=1, memory=True)\n",
    "        sim_results = aer_sim.run(qobj).result()\n",
    "        measured_bit = int(sim_results.get_memory()[0])\n",
    "        results.append(measured_bit)\n",
    "        \n",
    "    return results"
   ]
  },
  {
   "cell_type": "code",
   "execution_count": 179,
   "metadata": {},
   "outputs": [
    {
     "name": "stdout",
     "output_type": "stream",
     "text": [
      "[0, 1, 0, 0, 0, 1, 0, 0, 0, 1, 0, 0, 1, 0, 1, 0, 0, 0, 1, 0, 0, 0, 1, 1, 1, 1, 0, 0, 0, 0, 0, 1, 0, 1, 1, 1, 1, 0, 0, 1, 0, 0, 1, 1, 0, 0, 1, 0, 1, 1, 1, 1, 0, 1, 0, 0, 1, 0, 1, 0, 0, 1, 1, 1, 1, 0, 1, 1, 1, 0, 1, 0, 0, 1, 0, 1, 1, 0, 0, 0, 1, 0, 0, 1, 0, 0, 0, 0, 1, 1, 1, 1, 1, 0, 1, 1, 1, 1, 1, 0]\n"
     ]
    }
   ],
   "source": [
    "bob_key = measure(alice_msg, bob_basis)\n",
    "print(bob_key)"
   ]
  },
  {
   "cell_type": "code",
   "execution_count": 180,
   "metadata": {},
   "outputs": [],
   "source": [
    "def modify_key(alice_bases, bob_bases, bit_key):\n",
    "    \"\"\"\n",
    "    Function for modifying key by removing bits based on basis matching.\n",
    "    \n",
    "    :param alice_bases: Basis that Alice chose\n",
    "    :param bob_bases: Basis that Bob chose\n",
    "    :param bit_key: Key to modify\n",
    "    \"\"\"\n",
    "    \n",
    "    preserved = []\n",
    "    \n",
    "    for i in range(len(bit_key)):\n",
    "        if alice_basis[i] == bob_basis[i]:\n",
    "            preserved.append(bit_key[i])\n",
    "        \n",
    "    return preserved"
   ]
  },
  {
   "cell_type": "code",
   "execution_count": 181,
   "metadata": {},
   "outputs": [
    {
     "name": "stdout",
     "output_type": "stream",
     "text": [
      "Alice's modified key:\n",
      "[0, 1, 0, 0, 0, 0, 1, 0, 1, 1, 0, 0, 1, 1, 0, 0, 0, 0, 1, 1, 0, 1, 1, 1, 0, 1, 0, 0, 1, 1, 1, 1, 1, 1, 0, 0, 1, 0, 0, 1, 1, 1, 1, 1, 1, 1, 1]\n",
      "\n",
      "Bob's modified key:\n",
      "[0, 1, 0, 0, 0, 0, 1, 0, 1, 1, 0, 0, 1, 1, 0, 0, 0, 0, 1, 1, 0, 1, 1, 1, 0, 1, 0, 0, 1, 1, 1, 1, 1, 1, 0, 0, 1, 0, 0, 1, 1, 1, 1, 1, 1, 1, 1]\n"
     ]
    }
   ],
   "source": [
    "alice_mod_key = modify_key(alice_basis, bob_basis, alice_key)\n",
    "bob_mod_key = modify_key(alice_basis, bob_basis, bob_key)\n",
    "\n",
    "print(\"Alice's modified key:\\n\" + str(alice_mod_key) + \"\\n\")\n",
    "print(\"Bob's modified key:\\n\" + str(bob_mod_key))"
   ]
  },
  {
   "cell_type": "code",
   "execution_count": 189,
   "metadata": {},
   "outputs": [],
   "source": [
    "def sifting(alice_mod, bob_mod, sample_size, threshold):\n",
    "    \"\"\"\n",
    "    Function for comparing a random sample of bits in Alice and Bob's keys\n",
    "    \n",
    "    :param alice_mod: Alice's current key\n",
    "    :param bob_mod: Bob's current key\n",
    "    :param sample_size: Number of bits to compare\n",
    "    :param threshold: Allowed error proportion\n",
    "    \"\"\"\n",
    "    alice_sample = []\n",
    "    bob_sample = []\n",
    "    sample_idx = []\n",
    "    for i in range(sample_size):\n",
    "        sample_idx.append(random.randint(0, len(alice_mod)-1))\n",
    "        \n",
    "    \n",
    "        \n",
    "    \n",
    "    \n",
    "    for idx in sample_idx:\n",
    "        alice_sample.append(alice_mod[idx])\n",
    "        bob_sample.append(bob_mod[idx])\n",
    "    \n",
    "    error = 1 - (sum(np.array(alice_sample) == np.array(bob_sample)) / 10)\n",
    "    \n",
    "    if error <= threshold:\n",
    "        return alice_mod, bob_mod\n",
    "    \n",
    "    else:\n",
    "        print(\"Error threshold exceeded.\")\n",
    "        return None, None"
   ]
  },
  {
   "cell_type": "code",
   "execution_count": 190,
   "metadata": {},
   "outputs": [
    {
     "data": {
      "text/plain": [
       "47"
      ]
     },
     "execution_count": 190,
     "metadata": {},
     "output_type": "execute_result"
    }
   ],
   "source": [
    "len(alice_mod_key)"
   ]
  },
  {
   "cell_type": "code",
   "execution_count": 193,
   "metadata": {},
   "outputs": [
    {
     "name": "stdout",
     "output_type": "stream",
     "text": [
      "[0, 1, 0, 0, 0, 0, 1, 0, 1, 1, 0, 0, 1, 1, 0, 0, 0, 0, 1, 1, 0, 1, 1, 1, 0, 1, 0, 0, 1, 1, 1, 1, 1, 1, 0, 0, 1, 0, 0, 1, 1, 1, 1, 1, 1, 1, 1]\n",
      "[0, 1, 0, 0, 0, 0, 1, 0, 1, 1, 0, 0, 1, 1, 0, 0, 0, 0, 1, 1, 0, 1, 1, 1, 0, 1, 0, 0, 1, 1, 1, 1, 1, 1, 0, 0, 1, 0, 0, 1, 1, 1, 1, 1, 1, 1, 1]\n"
     ]
    }
   ],
   "source": [
    "alice_sifted, bob_sifted = sifting(alice_mod_key, bob_mod_key, sample_size=10, threshold=0.3)\n",
    "\n",
    "print(alice_sifted)\n",
    "print(bob_sifted)"
   ]
  }
 ],
 "metadata": {
  "kernelspec": {
   "display_name": "Python 3",
   "language": "python",
   "name": "python3"
  },
  "language_info": {
   "codemirror_mode": {
    "name": "ipython",
    "version": 3
   },
   "file_extension": ".py",
   "mimetype": "text/x-python",
   "name": "python",
   "nbconvert_exporter": "python",
   "pygments_lexer": "ipython3",
   "version": "3.7.6"
  }
 },
 "nbformat": 4,
 "nbformat_minor": 4
}
