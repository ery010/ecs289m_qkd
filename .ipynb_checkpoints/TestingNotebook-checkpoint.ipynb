{
 "cells": [
  {
   "cell_type": "code",
   "execution_count": 1,
   "metadata": {},
   "outputs": [],
   "source": [
    "# Testing Notebook\n",
    "# Final code in qkd.py\n",
    "# Sources: \n",
    "# https://github.com/qiskit-community/qiskit-community-tutorials/blob/master/awards/teach_me_qiskit_2018/cryptography/Cryptography.ipynb\n",
    "# https://qiskit.org/textbook/ch-algorithms/quantum-key-distribution.html"
   ]
  },
  {
   "cell_type": "code",
   "execution_count": 36,
   "metadata": {},
   "outputs": [],
   "source": [
    "from qiskit import QuantumCircuit, ClassicalRegister, QuantumRegister, execute, BasicAer, Aer, transpile, assemble\n",
    "from qiskit.tools.visualization import plot_histogram\n",
    "import numpy as np\n",
    "from numpy.random import randint"
   ]
  },
  {
   "cell_type": "code",
   "execution_count": 37,
   "metadata": {},
   "outputs": [],
   "source": [
    "# BB84\n",
    "\n",
    "# Basis-key: {0: Z-Basis (horizontal-vertical), 1: X-Basis (diagonal)}"
   ]
  },
  {
   "cell_type": "code",
   "execution_count": 56,
   "metadata": {},
   "outputs": [],
   "source": [
    "# Final code for packaging"
   ]
  },
  {
   "cell_type": "code",
   "execution_count": 38,
   "metadata": {},
   "outputs": [],
   "source": [
    "def generate_key(n):\n",
    "    \"\"\"\n",
    "    Function for generating a random key and bases of length n.\n",
    "    \n",
    "    :param n: length of bitstring to generate\n",
    "    \"\"\"\n",
    "    bit_key = randint(2, size=n)\n",
    "    bit_basis = randint(2, size=n)\n",
    "    \n",
    "    return bit_key, bit_basis"
   ]
  },
  {
   "cell_type": "code",
   "execution_count": 39,
   "metadata": {},
   "outputs": [
    {
     "name": "stdout",
     "output_type": "stream",
     "text": [
      "[1 1 0 1 0 0 1 1 0 1 1 1 0 0 1 1 0 1 0 0 0 0 1 1 0 0 1 1 1 1 0 1 1 0 1 0 1\n",
      " 0 0 1 0 1 1 0 0 0 1 1 1 0 1 1 1 1 0 1 1 1 0 0 1 1 0 0 0 1 0 1 0 1 0 0 0 1\n",
      " 1 1 1 1 1 0 0 0 0 1 1 1 1 1 1 1 0 1 0 0 1 0 1 1 0 0]\n",
      "[1 0 0 0 1 0 0 1 0 1 1 1 1 1 0 1 1 0 1 0 0 1 1 0 0 1 0 0 0 1 0 1 1 1 1 1 0\n",
      " 0 1 1 1 0 0 0 0 1 1 1 0 0 1 0 0 0 1 0 1 0 1 1 0 0 0 0 1 0 1 1 0 0 0 1 0 0\n",
      " 1 1 0 1 1 1 1 1 1 1 0 1 1 1 0 0 0 0 1 1 1 0 0 0 1 1]\n"
     ]
    }
   ],
   "source": [
    "n = 100\n",
    "\n",
    "alice_key, alice_basis = generate_key(n)\n",
    "\n",
    "print(alice_key)\n",
    "print(alice_basis)"
   ]
  },
  {
   "cell_type": "code",
   "execution_count": 40,
   "metadata": {},
   "outputs": [],
   "source": [
    "def encode(bit_key, bit_bases):\n",
    "    \"\"\"\n",
    "    Function for encoding a message.\n",
    "    \n",
    "    :param bit_key: Randomly generated bitstring key\n",
    "    :param bit_bases: Bases for each bit in bit_key\n",
    "    \"\"\"\n",
    "    output = []\n",
    "    \n",
    "    # length of bit_key and bit_bases should be the same\n",
    "    assert len(bit_key) == len(bit_bases), \"Key and bases sequence should be equivalent.\"\n",
    "    \n",
    "    for i in range(len(bit_key)):\n",
    "        qc = QuantumCircuit(1, 1)\n",
    "        \n",
    "        # Encode qubit in Z-basis (horizontal-vertical)\n",
    "        if bit_bases[i] == 0:\n",
    "            if bit_key[i] == 0:\n",
    "                pass\n",
    "            else:\n",
    "                qc.x(0)\n",
    "        \n",
    "        # Encode qubit in X-basis (diagonal)\n",
    "        else:\n",
    "            if bit_key[i] == 0:\n",
    "                qc.h(0)\n",
    "            else:\n",
    "                qc.x(0)\n",
    "                qc.h(0)\n",
    "                \n",
    "        qc.barrier()\n",
    "        output.append(qc)\n",
    "        \n",
    "    return output"
   ]
  },
  {
   "cell_type": "code",
   "execution_count": 41,
   "metadata": {},
   "outputs": [],
   "source": [
    "alice_msg = encode(alice_key, alice_basis)"
   ]
  },
  {
   "cell_type": "code",
   "execution_count": 42,
   "metadata": {},
   "outputs": [
    {
     "name": "stdout",
     "output_type": "stream",
     "text": [
      "Bit = 1\n",
      "Basis = 1\n"
     ]
    },
    {
     "data": {
      "text/html": [
       "<pre style=\"word-wrap: normal;white-space: pre;background: #fff0;line-height: 1.1;font-family: &quot;Courier New&quot;,Courier,monospace\">     ┌───┐┌───┐ ░ \n",
       "  q: ┤ X ├┤ H ├─░─\n",
       "     └───┘└───┘ ░ \n",
       "c: 1/═════════════\n",
       "                  </pre>"
      ],
      "text/plain": [
       "     ┌───┐┌───┐ ░ \n",
       "  q: ┤ X ├┤ H ├─░─\n",
       "     └───┘└───┘ ░ \n",
       "c: 1/═════════════\n",
       "                  "
      ]
     },
     "execution_count": 42,
     "metadata": {},
     "output_type": "execute_result"
    }
   ],
   "source": [
    "print(\"Bit = \" + str(alice_key[0]))\n",
    "print(\"Basis = \" + str(alice_basis[0]))\n",
    "alice_msg[0].draw()"
   ]
  },
  {
   "cell_type": "code",
   "execution_count": 27,
   "metadata": {},
   "outputs": [],
   "source": [
    "def select_basis(msg):\n",
    "    \"\"\"\n",
    "    Function for selecting basis on receiver (Bob) end.\n",
    "    \n",
    "    :param msg: Messaged received from sender (Alice)\n",
    "    \"\"\"\n",
    "    return randint(2, size=len(msg))"
   ]
  },
  {
   "cell_type": "code",
   "execution_count": 43,
   "metadata": {},
   "outputs": [],
   "source": [
    "# Bob\n",
    "\n",
    "bob_basis = select_basis(alice_msg)"
   ]
  },
  {
   "cell_type": "code",
   "execution_count": 53,
   "metadata": {},
   "outputs": [],
   "source": [
    "def measure(msg, bases):\n",
    "    \"\"\"\n",
    "    Function for measure qubits with receiver (Bob) basis.\n",
    "    \n",
    "    :param msg: Message received from sender (Alice)\n",
    "    :param bases: Basis selected by receiver (Bob)\n",
    "    \"\"\"\n",
    "    backend = Aer.get_backend(\"aer_simulator\")\n",
    "    results = []\n",
    "    \n",
    "    for i in range(len(msg)):\n",
    "        # Z-basis\n",
    "        if bases[i] == 0: \n",
    "            msg[i].measure(0, 0)\n",
    "            \n",
    "         # X-basis\n",
    "        if bases[i] == 1:\n",
    "            msg[i].h(0)\n",
    "            msg[i].measure(0, 0)\n",
    "            \n",
    "        aer_sim = Aer.get_backend(\"aer_simulator\")\n",
    "        qobj = assemble(msg[i], shots=1, memory=True)\n",
    "        sim_results = aer_sim.run(qobj).result()\n",
    "        measured_bit = int(sim_results.get_memory()[0])\n",
    "        results.append(measured_bit)\n",
    "        \n",
    "    return results"
   ]
  },
  {
   "cell_type": "code",
   "execution_count": 54,
   "metadata": {},
   "outputs": [],
   "source": [
    "bob_results = measure(alice_msg, bob_basis)"
   ]
  },
  {
   "cell_type": "code",
   "execution_count": 55,
   "metadata": {},
   "outputs": [
    {
     "data": {
      "text/plain": [
       "[1,\n",
       " 1,\n",
       " 0,\n",
       " 0,\n",
       " 0,\n",
       " 0,\n",
       " 1,\n",
       " 1,\n",
       " 0,\n",
       " 1,\n",
       " 0,\n",
       " 1,\n",
       " 1,\n",
       " 1,\n",
       " 0,\n",
       " 1,\n",
       " 0,\n",
       " 0,\n",
       " 0,\n",
       " 0,\n",
       " 1,\n",
       " 0,\n",
       " 1,\n",
       " 0,\n",
       " 0,\n",
       " 0,\n",
       " 1,\n",
       " 1,\n",
       " 1,\n",
       " 1,\n",
       " 0,\n",
       " 0,\n",
       " 1,\n",
       " 0,\n",
       " 1,\n",
       " 0,\n",
       " 0,\n",
       " 0,\n",
       " 1,\n",
       " 1,\n",
       " 0,\n",
       " 1,\n",
       " 1,\n",
       " 0,\n",
       " 0,\n",
       " 1,\n",
       " 1,\n",
       " 1,\n",
       " 1,\n",
       " 1,\n",
       " 1,\n",
       " 1,\n",
       " 1,\n",
       " 1,\n",
       " 0,\n",
       " 0,\n",
       " 1,\n",
       " 1,\n",
       " 0,\n",
       " 0,\n",
       " 1,\n",
       " 0,\n",
       " 1,\n",
       " 0,\n",
       " 0,\n",
       " 0,\n",
       " 1,\n",
       " 1,\n",
       " 0,\n",
       " 1,\n",
       " 0,\n",
       " 1,\n",
       " 0,\n",
       " 1,\n",
       " 1,\n",
       " 1,\n",
       " 1,\n",
       " 1,\n",
       " 1,\n",
       " 1,\n",
       " 0,\n",
       " 0,\n",
       " 0,\n",
       " 1,\n",
       " 0,\n",
       " 1,\n",
       " 1,\n",
       " 1,\n",
       " 1,\n",
       " 1,\n",
       " 0,\n",
       " 1,\n",
       " 1,\n",
       " 0,\n",
       " 1,\n",
       " 1,\n",
       " 1,\n",
       " 1,\n",
       " 0,\n",
       " 0]"
      ]
     },
     "execution_count": 55,
     "metadata": {},
     "output_type": "execute_result"
    }
   ],
   "source": [
    "bob_results"
   ]
  }
 ],
 "metadata": {
  "kernelspec": {
   "display_name": "Python 3",
   "language": "python",
   "name": "python3"
  },
  "language_info": {
   "codemirror_mode": {
    "name": "ipython",
    "version": 3
   },
   "file_extension": ".py",
   "mimetype": "text/x-python",
   "name": "python",
   "nbconvert_exporter": "python",
   "pygments_lexer": "ipython3",
   "version": "3.7.6"
  }
 },
 "nbformat": 4,
 "nbformat_minor": 4
}
